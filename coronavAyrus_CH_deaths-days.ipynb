{
 "cells": [
  {
   "cell_type": "code",
   "execution_count": 6,
   "metadata": {},
   "outputs": [
    {
     "data": {
      "application/javascript": [
       "IPython.notebook.set_autosave_interval(20000)"
      ]
     },
     "metadata": {},
     "output_type": "display_data"
    },
    {
     "name": "stdout",
     "output_type": "stream",
     "text": [
      "Autosaving every 20 seconds\n"
     ]
    }
   ],
   "source": [
    "%autosave 20"
   ]
  },
  {
   "cell_type": "code",
   "execution_count": 7,
   "metadata": {
    "scrolled": true
   },
   "outputs": [],
   "source": [
    "# Import Python Packages\n",
    "import pandas as pd\n",
    "import numpy as np\n",
    "import warnings \n",
    "warnings.filterwarnings('ignore')\n",
    "import matplotlib.pyplot as plt\n",
    "from sklearn.metrics import mean_squared_error, mean_absolute_error"
   ]
  },
  {
   "cell_type": "code",
   "execution_count": 8,
   "metadata": {},
   "outputs": [],
   "source": [
    "# pip install plotly\n",
    "import plotly.express as px\n"
   ]
  },
  {
   "cell_type": "code",
   "execution_count": 9,
   "metadata": {},
   "outputs": [],
   "source": [
    "# imports\n",
    "\n",
    "data_ch = pd.read_csv('data_ch.csv')\n"
   ]
  },
  {
   "cell_type": "markdown",
   "metadata": {},
   "source": [
    "# Criacao de modelo"
   ]
  },
  {
   "cell_type": "markdown",
   "metadata": {},
   "source": [
    "# CHINA"
   ]
  },
  {
   "cell_type": "code",
   "execution_count": 10,
   "metadata": {},
   "outputs": [],
   "source": [
    "pais = data_ch"
   ]
  },
  {
   "cell_type": "code",
   "execution_count": 11,
   "metadata": {},
   "outputs": [
    {
     "data": {
      "text/plain": [
       "(1920, 7)"
      ]
     },
     "execution_count": 11,
     "metadata": {},
     "output_type": "execute_result"
    }
   ],
   "source": [
    "#esperado 3749 7 for data transformed\n",
    "\n",
    "pais.shape"
   ]
  },
  {
   "cell_type": "code",
   "execution_count": 12,
   "metadata": {},
   "outputs": [
    {
     "data": {
      "text/html": [
       "<div>\n",
       "<style scoped>\n",
       "    .dataframe tbody tr th:only-of-type {\n",
       "        vertical-align: middle;\n",
       "    }\n",
       "\n",
       "    .dataframe tbody tr th {\n",
       "        vertical-align: top;\n",
       "    }\n",
       "\n",
       "    .dataframe thead th {\n",
       "        text-align: right;\n",
       "    }\n",
       "</style>\n",
       "<table border=\"1\" class=\"dataframe\">\n",
       "  <thead>\n",
       "    <tr style=\"text-align: right;\">\n",
       "      <th></th>\n",
       "      <th>Date</th>\n",
       "      <th>Province/State</th>\n",
       "      <th>Country</th>\n",
       "      <th>Confirmed</th>\n",
       "      <th>Deaths</th>\n",
       "      <th>Recovered</th>\n",
       "      <th>dayCount</th>\n",
       "    </tr>\n",
       "  </thead>\n",
       "  <tbody>\n",
       "    <tr>\n",
       "      <th>1915</th>\n",
       "      <td>03/23/2020</td>\n",
       "      <td>Beijing</td>\n",
       "      <td>Mainland China</td>\n",
       "      <td>537.0</td>\n",
       "      <td>8.0</td>\n",
       "      <td>401.0</td>\n",
       "      <td>61</td>\n",
       "    </tr>\n",
       "    <tr>\n",
       "      <th>1916</th>\n",
       "      <td>03/23/2020</td>\n",
       "      <td>Anhui</td>\n",
       "      <td>Mainland China</td>\n",
       "      <td>990.0</td>\n",
       "      <td>6.0</td>\n",
       "      <td>984.0</td>\n",
       "      <td>61</td>\n",
       "    </tr>\n",
       "    <tr>\n",
       "      <th>1917</th>\n",
       "      <td>03/23/2020</td>\n",
       "      <td>Yunnan</td>\n",
       "      <td>Mainland China</td>\n",
       "      <td>176.0</td>\n",
       "      <td>2.0</td>\n",
       "      <td>172.0</td>\n",
       "      <td>61</td>\n",
       "    </tr>\n",
       "    <tr>\n",
       "      <th>1918</th>\n",
       "      <td>03/23/2020</td>\n",
       "      <td>Inner Mongolia</td>\n",
       "      <td>Mainland China</td>\n",
       "      <td>75.0</td>\n",
       "      <td>1.0</td>\n",
       "      <td>74.0</td>\n",
       "      <td>61</td>\n",
       "    </tr>\n",
       "    <tr>\n",
       "      <th>1919</th>\n",
       "      <td>03/23/2020</td>\n",
       "      <td>Zhejiang</td>\n",
       "      <td>Mainland China</td>\n",
       "      <td>1238.0</td>\n",
       "      <td>1.0</td>\n",
       "      <td>1221.0</td>\n",
       "      <td>61</td>\n",
       "    </tr>\n",
       "  </tbody>\n",
       "</table>\n",
       "</div>"
      ],
      "text/plain": [
       "            Date  Province/State         Country  Confirmed  Deaths  \\\n",
       "1915  03/23/2020         Beijing  Mainland China      537.0     8.0   \n",
       "1916  03/23/2020           Anhui  Mainland China      990.0     6.0   \n",
       "1917  03/23/2020          Yunnan  Mainland China      176.0     2.0   \n",
       "1918  03/23/2020  Inner Mongolia  Mainland China       75.0     1.0   \n",
       "1919  03/23/2020        Zhejiang  Mainland China     1238.0     1.0   \n",
       "\n",
       "      Recovered  dayCount  \n",
       "1915      401.0        61  \n",
       "1916      984.0        61  \n",
       "1917      172.0        61  \n",
       "1918       74.0        61  \n",
       "1919     1221.0        61  "
      ]
     },
     "execution_count": 12,
     "metadata": {},
     "output_type": "execute_result"
    }
   ],
   "source": [
    "pais.tail()"
   ]
  },
  {
   "cell_type": "code",
   "execution_count": 13,
   "metadata": {},
   "outputs": [
    {
     "data": {
      "text/plain": [
       "(62, 5)"
      ]
     },
     "execution_count": 13,
     "metadata": {},
     "output_type": "execute_result"
    }
   ],
   "source": [
    "data_model = pais.groupby(['Country','dayCount']).agg({'Confirmed':  ['sum'],'Recovered':  ['sum'], 'Deaths': ['sum'] })\n",
    "data_model.columns = ['Confirmed', 'Recovered', 'Deaths']\n",
    "data_model = data_model.reset_index()\n",
    "data_model.shape"
   ]
  },
  {
   "cell_type": "code",
   "execution_count": 14,
   "metadata": {},
   "outputs": [
    {
     "data": {
      "text/html": [
       "<div>\n",
       "<style scoped>\n",
       "    .dataframe tbody tr th:only-of-type {\n",
       "        vertical-align: middle;\n",
       "    }\n",
       "\n",
       "    .dataframe tbody tr th {\n",
       "        vertical-align: top;\n",
       "    }\n",
       "\n",
       "    .dataframe thead th {\n",
       "        text-align: right;\n",
       "    }\n",
       "</style>\n",
       "<table border=\"1\" class=\"dataframe\">\n",
       "  <thead>\n",
       "    <tr style=\"text-align: right;\">\n",
       "      <th></th>\n",
       "      <th>Country</th>\n",
       "      <th>dayCount</th>\n",
       "      <th>Confirmed</th>\n",
       "      <th>Recovered</th>\n",
       "      <th>Deaths</th>\n",
       "    </tr>\n",
       "  </thead>\n",
       "  <tbody>\n",
       "    <tr>\n",
       "      <th>0</th>\n",
       "      <td>Mainland China</td>\n",
       "      <td>0</td>\n",
       "      <td>547.0</td>\n",
       "      <td>28.0</td>\n",
       "      <td>17.0</td>\n",
       "    </tr>\n",
       "    <tr>\n",
       "      <th>1</th>\n",
       "      <td>Mainland China</td>\n",
       "      <td>1</td>\n",
       "      <td>639.0</td>\n",
       "      <td>30.0</td>\n",
       "      <td>18.0</td>\n",
       "    </tr>\n",
       "    <tr>\n",
       "      <th>2</th>\n",
       "      <td>Mainland China</td>\n",
       "      <td>2</td>\n",
       "      <td>916.0</td>\n",
       "      <td>36.0</td>\n",
       "      <td>26.0</td>\n",
       "    </tr>\n",
       "    <tr>\n",
       "      <th>3</th>\n",
       "      <td>Mainland China</td>\n",
       "      <td>3</td>\n",
       "      <td>1399.0</td>\n",
       "      <td>39.0</td>\n",
       "      <td>42.0</td>\n",
       "    </tr>\n",
       "    <tr>\n",
       "      <th>4</th>\n",
       "      <td>Mainland China</td>\n",
       "      <td>4</td>\n",
       "      <td>2062.0</td>\n",
       "      <td>49.0</td>\n",
       "      <td>56.0</td>\n",
       "    </tr>\n",
       "  </tbody>\n",
       "</table>\n",
       "</div>"
      ],
      "text/plain": [
       "          Country  dayCount  Confirmed  Recovered  Deaths\n",
       "0  Mainland China         0      547.0       28.0    17.0\n",
       "1  Mainland China         1      639.0       30.0    18.0\n",
       "2  Mainland China         2      916.0       36.0    26.0\n",
       "3  Mainland China         3     1399.0       39.0    42.0\n",
       "4  Mainland China         4     2062.0       49.0    56.0"
      ]
     },
     "execution_count": 14,
     "metadata": {},
     "output_type": "execute_result"
    }
   ],
   "source": [
    "data_model.head()\n"
   ]
  },
  {
   "cell_type": "markdown",
   "metadata": {},
   "source": [
    "## ----------------------------------------------------------------"
   ]
  },
  {
   "cell_type": "markdown",
   "metadata": {},
   "source": [
    "## TRAIN  TEST"
   ]
  },
  {
   "cell_type": "markdown",
   "metadata": {},
   "source": [
    "# RANDON FOREST REGRESSOR"
   ]
  },
  {
   "cell_type": "code",
   "execution_count": 15,
   "metadata": {},
   "outputs": [],
   "source": [
    "X = data_model.iloc[:, 1:2].values\n",
    "y = data_model.iloc[:, 4].values\n",
    "\n",
    "y = y.reshape(-1, 1)\n"
   ]
  },
  {
   "cell_type": "code",
   "execution_count": 16,
   "metadata": {},
   "outputs": [],
   "source": [
    "from sklearn.model_selection import train_test_split,RandomizedSearchCV\n",
    "from sklearn.ensemble import RandomForestRegressor\n",
    "\n",
    "\n",
    "\n",
    "X_train, X_test, y_train, y_test = train_test_split(X, y,\n",
    "                                                                  test_size = 0.3,\n",
    "                                                                  random_state = 0)\n",
    "\n",
    "\n",
    "previsor = RandomForestRegressor()\n",
    "\n",
    "\n",
    "random_grid = {'bootstrap': [True, False],\n",
    "               'max_depth': [10, 20, 30, 40, 50, 60, 70, 80, 90, 100, 110, None],\n",
    "               'max_features': ['auto', 'sqrt'],\n",
    "               'min_samples_leaf': [1, 2, 4],\n",
    "               'min_samples_split': [2, 5, 10],\n",
    "               'n_estimators': [130, 180, 230]}\n",
    "\n",
    "\n",
    "rf_search = RandomizedSearchCV(previsor,\n",
    "                                random_grid,\n",
    "                                scoring='neg_mean_squared_error',\n",
    "                                cv = 3,\n",
    "                                return_train_score=True,\n",
    "                                n_jobs = -1,\n",
    "                                n_iter = 40, \n",
    "                                verbose=1  )\n"
   ]
  },
  {
   "cell_type": "code",
   "execution_count": 17,
   "metadata": {},
   "outputs": [
    {
     "name": "stdout",
     "output_type": "stream",
     "text": [
      "Fitting 3 folds for each of 40 candidates, totalling 120 fits\n"
     ]
    },
    {
     "name": "stderr",
     "output_type": "stream",
     "text": [
      "[Parallel(n_jobs=-1)]: Using backend LokyBackend with 4 concurrent workers.\n",
      "[Parallel(n_jobs=-1)]: Done  42 tasks      | elapsed:    5.3s\n",
      "[Parallel(n_jobs=-1)]: Done 120 out of 120 | elapsed:   13.1s finished\n"
     ]
    },
    {
     "data": {
      "text/plain": [
       "RandomizedSearchCV(cv=3, error_score=nan,\n",
       "                   estimator=RandomForestRegressor(bootstrap=True,\n",
       "                                                   ccp_alpha=0.0,\n",
       "                                                   criterion='mse',\n",
       "                                                   max_depth=None,\n",
       "                                                   max_features='auto',\n",
       "                                                   max_leaf_nodes=None,\n",
       "                                                   max_samples=None,\n",
       "                                                   min_impurity_decrease=0.0,\n",
       "                                                   min_impurity_split=None,\n",
       "                                                   min_samples_leaf=1,\n",
       "                                                   min_samples_split=2,\n",
       "                                                   min_weight_fraction_leaf=0.0,\n",
       "                                                   n_estimators=100,\n",
       "                                                   n_jobs=None, oob_score=Fals...\n",
       "                   iid='deprecated', n_iter=40, n_jobs=-1,\n",
       "                   param_distributions={'bootstrap': [True, False],\n",
       "                                        'max_depth': [10, 20, 30, 40, 50, 60,\n",
       "                                                      70, 80, 90, 100, 110,\n",
       "                                                      None],\n",
       "                                        'max_features': ['auto', 'sqrt'],\n",
       "                                        'min_samples_leaf': [1, 2, 4],\n",
       "                                        'min_samples_split': [2, 5, 10],\n",
       "                                        'n_estimators': [130, 180, 230]},\n",
       "                   pre_dispatch='2*n_jobs', random_state=None, refit=True,\n",
       "                   return_train_score=True, scoring='neg_mean_squared_error',\n",
       "                   verbose=1)"
      ]
     },
     "execution_count": 17,
     "metadata": {},
     "output_type": "execute_result"
    }
   ],
   "source": [
    "rf_search.fit(X_train, y_train)"
   ]
  },
  {
   "cell_type": "code",
   "execution_count": 18,
   "metadata": {},
   "outputs": [
    {
     "data": {
      "text/plain": [
       "{'n_estimators': 130,\n",
       " 'min_samples_split': 2,\n",
       " 'min_samples_leaf': 1,\n",
       " 'max_features': 'sqrt',\n",
       " 'max_depth': 110,\n",
       " 'bootstrap': True}"
      ]
     },
     "execution_count": 18,
     "metadata": {},
     "output_type": "execute_result"
    }
   ],
   "source": [
    "rf_search.best_params_"
   ]
  },
  {
   "cell_type": "code",
   "execution_count": 19,
   "metadata": {},
   "outputs": [],
   "source": [
    "rf_confirmed = rf_search.best_estimator_"
   ]
  },
  {
   "cell_type": "code",
   "execution_count": 20,
   "metadata": {},
   "outputs": [
    {
     "data": {
      "text/plain": [
       "RandomForestRegressor(bootstrap=True, ccp_alpha=0.0, criterion='mse',\n",
       "                      max_depth=110, max_features='sqrt', max_leaf_nodes=None,\n",
       "                      max_samples=None, min_impurity_decrease=0.0,\n",
       "                      min_impurity_split=None, min_samples_leaf=1,\n",
       "                      min_samples_split=2, min_weight_fraction_leaf=0.0,\n",
       "                      n_estimators=130, n_jobs=None, oob_score=False,\n",
       "                      random_state=None, verbose=0, warm_start=False)"
      ]
     },
     "execution_count": 20,
     "metadata": {},
     "output_type": "execute_result"
    }
   ],
   "source": [
    "rf_confirmed"
   ]
  },
  {
   "cell_type": "code",
   "execution_count": 21,
   "metadata": {},
   "outputs": [],
   "source": [
    "future = np.arange(min(X),100, 1)\n",
    "future = future.reshape(-1, 1)\n",
    "\n"
   ]
  },
  {
   "cell_type": "code",
   "execution_count": 22,
   "metadata": {},
   "outputs": [],
   "source": [
    "rf_pred_future = rf_confirmed.predict(future)"
   ]
  },
  {
   "cell_type": "code",
   "execution_count": 23,
   "metadata": {},
   "outputs": [],
   "source": [
    "rf_test_pred = rf_confirmed.predict(X_test)"
   ]
  },
  {
   "cell_type": "code",
   "execution_count": 24,
   "metadata": {},
   "outputs": [
    {
     "data": {
      "text/plain": [
       "array([2203.46923077, 2428.00769231, 2510.06923077, 3124.34615385,\n",
       "       3174.66923077, 2754.1       ,  370.70769231, 3063.77692308,\n",
       "         26.42307692, 2990.06153846, 1723.26153846,   56.6       ,\n",
       "        224.27692308, 2925.65384615, 2105.65384615, 2690.27692308,\n",
       "       3257.25384615, 1851.22307692,  141.24615385])"
      ]
     },
     "execution_count": 24,
     "metadata": {},
     "output_type": "execute_result"
    }
   ],
   "source": [
    "rf_test_pred"
   ]
  },
  {
   "cell_type": "code",
   "execution_count": 25,
   "metadata": {},
   "outputs": [
    {
     "data": {
      "text/plain": [
       "array([  21.18461538,   21.61538462,   26.42307692,   40.39230769,\n",
       "         56.6       ,   94.62307692,  119.79230769,  141.24615385,\n",
       "        177.61538462,  195.76153846,  224.27692308,  370.70769231,\n",
       "        452.18461538,  487.5       ,  547.26923077,  621.08461538,\n",
       "        698.74615385,  790.68461538,  875.51538462,  993.88461538,\n",
       "       1082.36153846, 1146.18461538, 1314.06923077, 1489.82307692,\n",
       "       1627.65384615, 1709.90769231, 1723.26153846, 1851.22307692,\n",
       "       2105.65384615, 2194.05384615, 2203.46923077, 2387.14615385,\n",
       "       2428.00769231, 2510.06923077, 2690.27692308, 2754.1       ,\n",
       "       2767.3       , 2784.9       , 2827.05384615, 2862.90769231,\n",
       "       2898.42307692, 2925.65384615, 2967.55384615, 2990.06153846,\n",
       "       3027.50769231, 3063.77692308, 3096.87692308, 3113.94615385,\n",
       "       3124.34615385, 3154.53076923, 3166.44615385, 3174.66923077,\n",
       "       3191.51538462, 3197.85384615, 3211.79230769, 3222.96153846,\n",
       "       3234.76153846, 3242.93076923, 3247.79230769, 3253.65384615,\n",
       "       3257.25384615, 3257.25384615, 3257.25384615, 3257.25384615,\n",
       "       3257.25384615, 3257.25384615, 3257.25384615, 3257.25384615,\n",
       "       3257.25384615, 3257.25384615, 3257.25384615, 3257.25384615,\n",
       "       3257.25384615, 3257.25384615, 3257.25384615, 3257.25384615,\n",
       "       3257.25384615, 3257.25384615, 3257.25384615, 3257.25384615,\n",
       "       3257.25384615, 3257.25384615, 3257.25384615, 3257.25384615,\n",
       "       3257.25384615, 3257.25384615, 3257.25384615, 3257.25384615,\n",
       "       3257.25384615, 3257.25384615, 3257.25384615, 3257.25384615,\n",
       "       3257.25384615, 3257.25384615, 3257.25384615, 3257.25384615,\n",
       "       3257.25384615, 3257.25384615, 3257.25384615, 3257.25384615])"
      ]
     },
     "execution_count": 25,
     "metadata": {},
     "output_type": "execute_result"
    }
   ],
   "source": [
    "rf_pred_future"
   ]
  },
  {
   "cell_type": "code",
   "execution_count": 26,
   "metadata": {},
   "outputs": [],
   "source": [
    "scoreTreino = rf_confirmed.score(X_train, y_train)\n",
    "scoreTeste = rf_confirmed.score(X_test, y_test)\n"
   ]
  },
  {
   "cell_type": "code",
   "execution_count": 27,
   "metadata": {},
   "outputs": [
    {
     "data": {
      "text/plain": [
       "0.9997092110787745"
      ]
     },
     "execution_count": 27,
     "metadata": {},
     "output_type": "execute_result"
    }
   ],
   "source": [
    "scoreTreino"
   ]
  },
  {
   "cell_type": "code",
   "execution_count": 28,
   "metadata": {},
   "outputs": [
    {
     "data": {
      "text/plain": [
       "0.9978550947137672"
      ]
     },
     "execution_count": 28,
     "metadata": {},
     "output_type": "execute_result"
    }
   ],
   "source": [
    "scoreTeste"
   ]
  },
  {
   "cell_type": "code",
   "execution_count": 29,
   "metadata": {},
   "outputs": [
    {
     "name": "stdout",
     "output_type": "stream",
     "text": [
      "MAE: 32.82267206477735\n",
      "MSE: 2914.275789473685\n"
     ]
    },
    {
     "data": {
      "image/png": "[encoded data removed]",
      "text/plain": [
       "<Figure size 432x288 with 1 Axes>"
      ]
     },
     "metadata": {
      "needs_background": "light"
     },
     "output_type": "display_data"
    }
   ],
   "source": [
    "#testando\n",
    "import matplotlib.pyplot as plt\n",
    "from sklearn.metrics import mean_squared_error, mean_absolute_error\n",
    "\n",
    "\n",
    "plt.plot(rf_test_pred, color = 'red')\n",
    "plt.plot(y_test, color = 'blue')\n",
    "\n",
    "print('MAE:', mean_absolute_error(rf_test_pred, y_test))\n",
    "print('MSE:', mean_squared_error(rf_test_pred, y_test))\n",
    "\n"
   ]
  },
  {
   "cell_type": "code",
   "execution_count": 30,
   "metadata": {},
   "outputs": [
    {
     "data": {
      "image/png": "[encoded data removed]",
      "text/plain": [
       "<Figure size 1440x864 with 1 Axes>"
      ]
     },
     "metadata": {
      "needs_background": "light"
     },
     "output_type": "display_data"
    }
   ],
   "source": [
    "plt.figure(figsize = (20,12))\n",
    "\n",
    "plt.plot(X,y, color = 'blue')\n",
    "plt.plot(future, rf_pred_future, linestyle ='dashed', color = 'red')\n",
    "plt.title('number of deaths over time', size = 20)\n",
    "plt.xlabel('days count', size = 20)\n",
    "plt.legend('predict')\n",
    "plt.ylabel('number of deaths', size = 20)\n",
    "plt.legend('y')\n",
    "plt.xticks(size=15)\n",
    "plt.yticks(size=15)\n",
    "plt.show()"
   ]
  },
  {
   "cell_type": "markdown",
   "metadata": {},
   "source": [
    "# --------------------------------------------------------------------------------"
   ]
  },
  {
   "cell_type": "markdown",
   "metadata": {},
   "source": [
    "# SVM REGRESSOR"
   ]
  },
  {
   "cell_type": "code",
   "execution_count": 31,
   "metadata": {},
   "outputs": [
    {
     "data": {
      "text/html": [
       "<div>\n",
       "<style scoped>\n",
       "    .dataframe tbody tr th:only-of-type {\n",
       "        vertical-align: middle;\n",
       "    }\n",
       "\n",
       "    .dataframe tbody tr th {\n",
       "        vertical-align: top;\n",
       "    }\n",
       "\n",
       "    .dataframe thead th {\n",
       "        text-align: right;\n",
       "    }\n",
       "</style>\n",
       "<table border=\"1\" class=\"dataframe\">\n",
       "  <thead>\n",
       "    <tr style=\"text-align: right;\">\n",
       "      <th></th>\n",
       "      <th>Country</th>\n",
       "      <th>dayCount</th>\n",
       "      <th>Confirmed</th>\n",
       "      <th>Recovered</th>\n",
       "      <th>Deaths</th>\n",
       "    </tr>\n",
       "  </thead>\n",
       "  <tbody>\n",
       "    <tr>\n",
       "      <th>0</th>\n",
       "      <td>Mainland China</td>\n",
       "      <td>0</td>\n",
       "      <td>547.0</td>\n",
       "      <td>28.0</td>\n",
       "      <td>17.0</td>\n",
       "    </tr>\n",
       "    <tr>\n",
       "      <th>1</th>\n",
       "      <td>Mainland China</td>\n",
       "      <td>1</td>\n",
       "      <td>639.0</td>\n",
       "      <td>30.0</td>\n",
       "      <td>18.0</td>\n",
       "    </tr>\n",
       "    <tr>\n",
       "      <th>2</th>\n",
       "      <td>Mainland China</td>\n",
       "      <td>2</td>\n",
       "      <td>916.0</td>\n",
       "      <td>36.0</td>\n",
       "      <td>26.0</td>\n",
       "    </tr>\n",
       "    <tr>\n",
       "      <th>3</th>\n",
       "      <td>Mainland China</td>\n",
       "      <td>3</td>\n",
       "      <td>1399.0</td>\n",
       "      <td>39.0</td>\n",
       "      <td>42.0</td>\n",
       "    </tr>\n",
       "    <tr>\n",
       "      <th>4</th>\n",
       "      <td>Mainland China</td>\n",
       "      <td>4</td>\n",
       "      <td>2062.0</td>\n",
       "      <td>49.0</td>\n",
       "      <td>56.0</td>\n",
       "    </tr>\n",
       "  </tbody>\n",
       "</table>\n",
       "</div>"
      ],
      "text/plain": [
       "          Country  dayCount  Confirmed  Recovered  Deaths\n",
       "0  Mainland China         0      547.0       28.0    17.0\n",
       "1  Mainland China         1      639.0       30.0    18.0\n",
       "2  Mainland China         2      916.0       36.0    26.0\n",
       "3  Mainland China         3     1399.0       39.0    42.0\n",
       "4  Mainland China         4     2062.0       49.0    56.0"
      ]
     },
     "execution_count": 31,
     "metadata": {},
     "output_type": "execute_result"
    }
   ],
   "source": [
    "data_model.head()"
   ]
  },
  {
   "cell_type": "code",
   "execution_count": 32,
   "metadata": {},
   "outputs": [],
   "source": [
    "X = data_model.iloc[:, 1].values\n",
    "y = data_model.iloc[:, 4].values"
   ]
  },
  {
   "cell_type": "code",
   "execution_count": 33,
   "metadata": {},
   "outputs": [
    {
     "data": {
      "text/plain": [
       "array([ 0,  1,  2,  3,  4,  5,  6,  7,  8,  9, 10, 11, 12, 13, 14, 15, 16,\n",
       "       17, 18, 19, 20, 21, 22, 23, 24, 25, 26, 27, 28, 29, 30, 31, 32, 33,\n",
       "       34, 35, 36, 37, 38, 39, 40, 41, 42, 43, 44, 45, 46, 47, 48, 49, 50,\n",
       "       51, 52, 53, 54, 55, 56, 57, 58, 59, 60, 61])"
      ]
     },
     "execution_count": 33,
     "metadata": {},
     "output_type": "execute_result"
    }
   ],
   "source": [
    "X"
   ]
  },
  {
   "cell_type": "code",
   "execution_count": 34,
   "metadata": {},
   "outputs": [
    {
     "data": {
      "text/plain": [
       "array([  17.,   18.,   26.,   42.,   56.,   82.,  131.,  133.,  171.,\n",
       "        213.,  259.,  361.,  425.,  490.,  562.,  632.,  717.,  804.,\n",
       "        904., 1011., 1111., 1116., 1368., 1520., 1662., 1765., 1863.,\n",
       "       2002., 2114., 2236., 2236., 2441., 2443., 2593., 2663., 2715.,\n",
       "       2744., 2788., 2835., 2870., 2912., 2945., 2981., 3013., 3042.,\n",
       "       3070., 3097., 3120., 3136., 3158., 3169., 3176., 3189., 3199.,\n",
       "       3213., 3226., 3237., 3245., 3249., 3255., 3261., 3270.])"
      ]
     },
     "execution_count": 34,
     "metadata": {},
     "output_type": "execute_result"
    }
   ],
   "source": [
    "y"
   ]
  },
  {
   "cell_type": "code",
   "execution_count": 35,
   "metadata": {},
   "outputs": [],
   "source": [
    "X = X.reshape(-1, 1)\n",
    "y = y.reshape(-1, 1)"
   ]
  },
  {
   "cell_type": "code",
   "execution_count": 36,
   "metadata": {},
   "outputs": [],
   "source": [
    "from sklearn.model_selection import train_test_split\n",
    "X_train, X_test, y_train, y_test = train_test_split(X, y,\n",
    "                                                    test_size = 0.3,\n",
    "                                                    random_state = 3)"
   ]
  },
  {
   "cell_type": "code",
   "execution_count": 37,
   "metadata": {},
   "outputs": [],
   "source": [
    "#svm model\n",
    "from sklearn.svm import SVR\n",
    "from sklearn.model_selection import RandomizedSearchCV, train_test_split\n",
    "\n",
    "kernel = ['poly', 'sigmoid', 'rbf']\n",
    "c = [0.01, 0.1, 1, 10]\n",
    "gamma = [0.01, 0.1, 1]\n",
    "epsilon = [0.01, 0.1, 1]\n",
    "shrinking = [True, False]\n",
    "\n",
    "svm_grid = {'kernel' : kernel , 'C' : c, 'gamma': gamma, 'epsilon': epsilon, 'shrinking': shrinking}\n",
    "\n",
    "previsor = SVR()\n",
    "\n",
    "svm_search = RandomizedSearchCV(previsor, \n",
    "                                svm_grid,\n",
    "                                scoring='neg_mean_squared_error',\n",
    "                                cv=3, \n",
    "                                return_train_score=True,\n",
    "                                n_jobs = -1, \n",
    "                                n_iter=40, \n",
    "                                verbose=1 )\n",
    "\n"
   ]
  },
  {
   "cell_type": "code",
   "execution_count": 38,
   "metadata": {},
   "outputs": [
    {
     "name": "stdout",
     "output_type": "stream",
     "text": [
      "Fitting 3 folds for each of 40 candidates, totalling 120 fits\n"
     ]
    },
    {
     "name": "stderr",
     "output_type": "stream",
     "text": [
      "[Parallel(n_jobs=-1)]: Using backend LokyBackend with 4 concurrent workers.\n",
      "[Parallel(n_jobs=-1)]: Done  88 tasks      | elapsed:  1.3min\n",
      "[Parallel(n_jobs=-1)]: Done 113 out of 120 | elapsed:  1.4min remaining:    5.3s\n",
      "[Parallel(n_jobs=-1)]: Done 120 out of 120 | elapsed:  4.9min finished\n"
     ]
    },
    {
     "data": {
      "text/plain": [
       "RandomizedSearchCV(cv=3, error_score=nan,\n",
       "                   estimator=SVR(C=1.0, cache_size=200, coef0=0.0, degree=3,\n",
       "                                 epsilon=0.1, gamma='scale', kernel='rbf',\n",
       "                                 max_iter=-1, shrinking=True, tol=0.001,\n",
       "                                 verbose=False),\n",
       "                   iid='deprecated', n_iter=40, n_jobs=-1,\n",
       "                   param_distributions={'C': [0.01, 0.1, 1, 10],\n",
       "                                        'epsilon': [0.01, 0.1, 1],\n",
       "                                        'gamma': [0.01, 0.1, 1],\n",
       "                                        'kernel': ['poly', 'sigmoid', 'rbf'],\n",
       "                                        'shrinking': [True, False]},\n",
       "                   pre_dispatch='2*n_jobs', random_state=None, refit=True,\n",
       "                   return_train_score=True, scoring='neg_mean_squared_error',\n",
       "                   verbose=1)"
      ]
     },
     "execution_count": 38,
     "metadata": {},
     "output_type": "execute_result"
    }
   ],
   "source": [
    "svm_search.fit(X_train, y_train)"
   ]
  },
  {
   "cell_type": "code",
   "execution_count": 52,
   "metadata": {},
   "outputs": [
    {
     "data": {
      "text/plain": [
       "{'shrinking': True, 'kernel': 'poly', 'gamma': 0.01, 'epsilon': 1, 'C': 1}"
      ]
     },
     "execution_count": 52,
     "metadata": {},
     "output_type": "execute_result"
    }
   ],
   "source": [
    "svm_search.best_params_"
   ]
  },
  {
   "cell_type": "code",
   "execution_count": 53,
   "metadata": {},
   "outputs": [],
   "source": [
    "svm_confirmed = svm_search.best_estimator_"
   ]
  },
  {
   "cell_type": "code",
   "execution_count": 54,
   "metadata": {},
   "outputs": [],
   "source": [
    "future = np.arange(min(X),100, 1)\n",
    "future = future.reshape(-1, 1)\n",
    "\n"
   ]
  },
  {
   "cell_type": "code",
   "execution_count": 55,
   "metadata": {},
   "outputs": [
    {
     "data": {
      "text/plain": [
       "SVR(C=1, cache_size=200, coef0=0.0, degree=3, epsilon=1, gamma=0.01,\n",
       "    kernel='poly', max_iter=-1, shrinking=True, tol=0.001, verbose=False)"
      ]
     },
     "execution_count": 55,
     "metadata": {},
     "output_type": "execute_result"
    }
   ],
   "source": [
    "svm_confirmed"
   ]
  },
  {
   "cell_type": "code",
   "execution_count": 56,
   "metadata": {},
   "outputs": [],
   "source": [
    "svm_pred_future = svm_confirmed.predict(future)"
   ]
  },
  {
   "cell_type": "code",
   "execution_count": 57,
   "metadata": {},
   "outputs": [],
   "source": [
    "svm_test_pred = svm_confirmed.predict(X_test)"
   ]
  },
  {
   "cell_type": "code",
   "execution_count": 58,
   "metadata": {},
   "outputs": [
    {
     "data": {
      "text/plain": [
       "array([2716.26650848, 1062.88127647, 4050.21190567, 1005.51152352,\n",
       "       1770.27321503, 1162.86405085,  974.24619186, 1317.29679709,\n",
       "        998.10948387, 1538.01646556, 1217.4402835 , 1441.01660268,\n",
       "       2409.02662387,  971.84723658, 1647.51614807,  982.34266594,\n",
       "       3320.50336995, 3596.66731411, 1396.96736458])"
      ]
     },
     "execution_count": 58,
     "metadata": {},
     "output_type": "execute_result"
    }
   ],
   "source": [
    "svm_test_pred"
   ]
  },
  {
   "cell_type": "code",
   "execution_count": 59,
   "metadata": {},
   "outputs": [
    {
     "data": {
      "text/plain": [
       "array([  970.83715015,   970.85293275,   970.96341095,   971.26328036,\n",
       "         971.84723658,   972.80997522,   974.24619186,   976.25058213,\n",
       "         978.91784162,   982.34266594,   986.61975068,   991.84379146,\n",
       "         998.10948387,  1005.51152352,  1014.14460602,  1024.10342695,\n",
       "        1035.48268194,  1048.37706658,  1062.88127647,  1079.09000722,\n",
       "        1097.09795443,  1116.9998137 ,  1138.89028064,  1162.86405085,\n",
       "        1189.01581994,  1217.4402835 ,  1248.23213715,  1281.48607647,\n",
       "        1317.29679709,  1355.75899459,  1396.96736458,  1441.01660268,\n",
       "        1488.00140447,  1538.01646556,  1591.15648156,  1647.51614807,\n",
       "        1707.19016069,  1770.27321503,  1836.86000669,  1907.04523127,\n",
       "        1980.92358437,  2058.5897616 ,  2140.13845856,  2225.66437086,\n",
       "        2315.26219409,  2409.02662387,  2507.05235579,  2609.43408546,\n",
       "        2716.26650848,  2827.64432045,  2943.66221698,  3064.41489367,\n",
       "        3189.99704613,  3320.50336995,  3456.02856074,  3596.66731411,\n",
       "        3742.51432565,  3893.66429097,  4050.21190567,  4212.25186536,\n",
       "        4379.87886564,  4553.18760211,  4732.27277038,  4917.22906604,\n",
       "        5108.15118471,  5305.13382199,  5508.27167347,  5717.65943476,\n",
       "        5933.39180147,  6155.5634692 ,  6384.26913354,  6619.60349012,\n",
       "        6861.66123452,  7110.53706235,  7366.32566921,  7629.12175072,\n",
       "        7899.02000246,  8176.11512005,  8460.50179908,  8752.27473517,\n",
       "        9051.52862391,  9358.3581609 ,  9672.85804176,  9995.12296207,\n",
       "       10325.24761746, 10663.32670351, 11009.45491584, 11363.72695004,\n",
       "       11726.23750172, 12097.08126648, 12476.35293993, 12864.14721767,\n",
       "       13260.5587953 , 13665.68236842, 14079.61263265, 14502.44428357,\n",
       "       14934.2720168 , 15375.19052794, 15825.29451259, 16284.67866635])"
      ]
     },
     "execution_count": 59,
     "metadata": {},
     "output_type": "execute_result"
    }
   ],
   "source": [
    "svm_pred_future"
   ]
  },
  {
   "cell_type": "code",
   "execution_count": 60,
   "metadata": {},
   "outputs": [],
   "source": [
    "scoreTreino = svm_confirmed.score(X_train, y_train)\n",
    "scoreTeste = svm_confirmed.score(X_test, y_test)\n"
   ]
  },
  {
   "cell_type": "code",
   "execution_count": 61,
   "metadata": {},
   "outputs": [
    {
     "data": {
      "text/plain": [
       "0.65369586583669"
      ]
     },
     "execution_count": 61,
     "metadata": {},
     "output_type": "execute_result"
    }
   ],
   "source": [
    "scoreTreino"
   ]
  },
  {
   "cell_type": "code",
   "execution_count": 62,
   "metadata": {},
   "outputs": [
    {
     "data": {
      "text/plain": [
       "0.5949648838857797"
      ]
     },
     "execution_count": 62,
     "metadata": {},
     "output_type": "execute_result"
    }
   ],
   "source": [
    "scoreTeste"
   ]
  },
  {
   "cell_type": "code",
   "execution_count": 63,
   "metadata": {},
   "outputs": [
    {
     "name": "stdout",
     "output_type": "stream",
     "text": [
      "MAE: 675.2966793816285\n",
      "MSE: 538034.9623227331\n"
     ]
    },
    {
     "data": {
      "image/png": "[encoded data removed]",
      "text/plain": [
       "<Figure size 432x288 with 1 Axes>"
      ]
     },
     "metadata": {
      "needs_background": "light"
     },
     "output_type": "display_data"
    }
   ],
   "source": [
    "#  Y X PREVISOES\n",
    "import matplotlib.pyplot as plt\n",
    "from sklearn.metrics import mean_squared_error, mean_absolute_error\n",
    "\n",
    "\n",
    "plt.plot(svm_test_pred, color = 'red')\n",
    "plt.plot(y_test, color = 'blue')\n",
    "\n",
    "print('MAE:', mean_absolute_error(svm_test_pred, y_test))\n",
    "print('MSE:', mean_squared_error(svm_test_pred, y_test))\n",
    "\n"
   ]
  },
  {
   "cell_type": "code",
   "execution_count": 51,
   "metadata": {},
   "outputs": [
    {
     "data": {
      "image/png": "[encoded data removed]",
      "text/plain": [
       "<Figure size 1440x864 with 1 Axes>"
      ]
     },
     "metadata": {
      "needs_background": "light"
     },
     "output_type": "display_data"
    }
   ],
   "source": [
    "plt.figure(figsize = (20,12))\n",
    "\n",
    "plt.plot(X,y, color = 'blue')\n",
    "plt.plot(future, svm_pred_future, linestyle ='dashed', color = 'red')\n",
    "plt.title('number of deaths over time', size = 20)\n",
    "plt.xlabel('days count', size = 20)\n",
    "plt.ylabel('number of deaths', size = 20)\n",
    "plt.xticks(size=15)\n",
    "plt.yticks(size=15)\n",
    "plt.show()"
   ]
  },
  {
   "cell_type": "code",
   "execution_count": null,
   "metadata": {},
   "outputs": [],
   "source": []
  }
 ],
 "metadata": {
  "kernelspec": {
   "display_name": "Python 3",
   "language": "python",
   "name": "python3"
  },
  "language_info": {
   "codemirror_mode": {
    "name": "ipython",
    "version": 3
   },
   "file_extension": ".py",
   "mimetype": "text/x-python",
   "name": "python",
   "nbconvert_exporter": "python",
   "pygments_lexer": "ipython3",
   "version": "3.7.4"
  }
 },
 "nbformat": 4,
 "nbformat_minor": 4
}
