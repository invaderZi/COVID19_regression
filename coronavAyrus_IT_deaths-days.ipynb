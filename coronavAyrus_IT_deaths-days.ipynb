{
 "cells": [
  {
   "cell_type": "code",
   "execution_count": 1,
   "metadata": {},
   "outputs": [
    {
     "data": {
      "application/javascript": [
       "IPython.notebook.set_autosave_interval(20000)"
      ]
     },
     "metadata": {},
     "output_type": "display_data"
    },
    {
     "name": "stdout",
     "output_type": "stream",
     "text": [
      "Autosaving every 20 seconds\n"
     ]
    }
   ],
   "source": [
    "%autosave 20"
   ]
  },
  {
   "cell_type": "code",
   "execution_count": 2,
   "metadata": {
    "scrolled": true
   },
   "outputs": [],
   "source": [
    "# Import Python Packages\n",
    "import pandas as pd\n",
    "import numpy as np\n",
    "import warnings \n",
    "warnings.filterwarnings('ignore')\n",
    "import matplotlib.pyplot as plt\n",
    "from sklearn.metrics import mean_squared_error, mean_absolute_error"
   ]
  },
  {
   "cell_type": "code",
   "execution_count": 3,
   "metadata": {},
   "outputs": [],
   "source": [
    "# pip install plotly\n",
    "import plotly.express as px\n"
   ]
  },
  {
   "cell_type": "code",
   "execution_count": 4,
   "metadata": {},
   "outputs": [],
   "source": [
    "# imports\n",
    "\n",
    "data_it = pd.read_csv('data_it.csv')\n"
   ]
  },
  {
   "cell_type": "markdown",
   "metadata": {},
   "source": [
    "# Criacao de modelo"
   ]
  },
  {
   "cell_type": "markdown",
   "metadata": {},
   "source": [
    "# Brasil"
   ]
  },
  {
   "cell_type": "code",
   "execution_count": 5,
   "metadata": {},
   "outputs": [],
   "source": [
    "pais = data_it"
   ]
  },
  {
   "cell_type": "code",
   "execution_count": 6,
   "metadata": {},
   "outputs": [
    {
     "data": {
      "text/plain": [
       "(53, 7)"
      ]
     },
     "execution_count": 6,
     "metadata": {},
     "output_type": "execute_result"
    }
   ],
   "source": [
    "#esperado 3749 7 for data transformed\n",
    "\n",
    "pais.shape"
   ]
  },
  {
   "cell_type": "code",
   "execution_count": 7,
   "metadata": {},
   "outputs": [
    {
     "data": {
      "text/html": [
       "<div>\n",
       "<style scoped>\n",
       "    .dataframe tbody tr th:only-of-type {\n",
       "        vertical-align: middle;\n",
       "    }\n",
       "\n",
       "    .dataframe tbody tr th {\n",
       "        vertical-align: top;\n",
       "    }\n",
       "\n",
       "    .dataframe thead th {\n",
       "        text-align: right;\n",
       "    }\n",
       "</style>\n",
       "<table border=\"1\" class=\"dataframe\">\n",
       "  <thead>\n",
       "    <tr style=\"text-align: right;\">\n",
       "      <th></th>\n",
       "      <th>Date</th>\n",
       "      <th>Province/State</th>\n",
       "      <th>Country</th>\n",
       "      <th>Confirmed</th>\n",
       "      <th>Deaths</th>\n",
       "      <th>Recovered</th>\n",
       "      <th>dayCount</th>\n",
       "    </tr>\n",
       "  </thead>\n",
       "  <tbody>\n",
       "    <tr>\n",
       "      <th>48</th>\n",
       "      <td>03/19/2020</td>\n",
       "      <td>NaN</td>\n",
       "      <td>Italy</td>\n",
       "      <td>41035.0</td>\n",
       "      <td>3405.0</td>\n",
       "      <td>4440.0</td>\n",
       "      <td>48</td>\n",
       "    </tr>\n",
       "    <tr>\n",
       "      <th>49</th>\n",
       "      <td>03/20/2020</td>\n",
       "      <td>NaN</td>\n",
       "      <td>Italy</td>\n",
       "      <td>47021.0</td>\n",
       "      <td>4032.0</td>\n",
       "      <td>4440.0</td>\n",
       "      <td>49</td>\n",
       "    </tr>\n",
       "    <tr>\n",
       "      <th>50</th>\n",
       "      <td>03/21/2020</td>\n",
       "      <td>NaN</td>\n",
       "      <td>Italy</td>\n",
       "      <td>53578.0</td>\n",
       "      <td>4825.0</td>\n",
       "      <td>6072.0</td>\n",
       "      <td>50</td>\n",
       "    </tr>\n",
       "    <tr>\n",
       "      <th>51</th>\n",
       "      <td>03/22/2020</td>\n",
       "      <td>NaN</td>\n",
       "      <td>Italy</td>\n",
       "      <td>59138.0</td>\n",
       "      <td>5476.0</td>\n",
       "      <td>7024.0</td>\n",
       "      <td>51</td>\n",
       "    </tr>\n",
       "    <tr>\n",
       "      <th>52</th>\n",
       "      <td>03/23/2020</td>\n",
       "      <td>NaN</td>\n",
       "      <td>Italy</td>\n",
       "      <td>63927.0</td>\n",
       "      <td>6077.0</td>\n",
       "      <td>7432.0</td>\n",
       "      <td>52</td>\n",
       "    </tr>\n",
       "  </tbody>\n",
       "</table>\n",
       "</div>"
      ],
      "text/plain": [
       "          Date  Province/State Country  Confirmed  Deaths  Recovered  dayCount\n",
       "48  03/19/2020             NaN   Italy    41035.0  3405.0     4440.0        48\n",
       "49  03/20/2020             NaN   Italy    47021.0  4032.0     4440.0        49\n",
       "50  03/21/2020             NaN   Italy    53578.0  4825.0     6072.0        50\n",
       "51  03/22/2020             NaN   Italy    59138.0  5476.0     7024.0        51\n",
       "52  03/23/2020             NaN   Italy    63927.0  6077.0     7432.0        52"
      ]
     },
     "execution_count": 7,
     "metadata": {},
     "output_type": "execute_result"
    }
   ],
   "source": [
    "pais.tail()"
   ]
  },
  {
   "cell_type": "code",
   "execution_count": 8,
   "metadata": {},
   "outputs": [
    {
     "data": {
      "text/plain": [
       "(53, 5)"
      ]
     },
     "execution_count": 8,
     "metadata": {},
     "output_type": "execute_result"
    }
   ],
   "source": [
    "data_model = pais.groupby(['Country','dayCount']).agg({'Confirmed':  ['sum'],'Recovered':  ['sum'], 'Deaths': ['sum'] })\n",
    "data_model.columns = ['Confirmed', 'Recovered', 'Deaths']\n",
    "data_model = data_model.reset_index()\n",
    "data_model.shape"
   ]
  },
  {
   "cell_type": "code",
   "execution_count": 9,
   "metadata": {},
   "outputs": [
    {
     "data": {
      "text/html": [
       "<div>\n",
       "<style scoped>\n",
       "    .dataframe tbody tr th:only-of-type {\n",
       "        vertical-align: middle;\n",
       "    }\n",
       "\n",
       "    .dataframe tbody tr th {\n",
       "        vertical-align: top;\n",
       "    }\n",
       "\n",
       "    .dataframe thead th {\n",
       "        text-align: right;\n",
       "    }\n",
       "</style>\n",
       "<table border=\"1\" class=\"dataframe\">\n",
       "  <thead>\n",
       "    <tr style=\"text-align: right;\">\n",
       "      <th></th>\n",
       "      <th>Country</th>\n",
       "      <th>dayCount</th>\n",
       "      <th>Confirmed</th>\n",
       "      <th>Recovered</th>\n",
       "      <th>Deaths</th>\n",
       "    </tr>\n",
       "  </thead>\n",
       "  <tbody>\n",
       "    <tr>\n",
       "      <th>0</th>\n",
       "      <td>Italy</td>\n",
       "      <td>0</td>\n",
       "      <td>2.0</td>\n",
       "      <td>0.0</td>\n",
       "      <td>0.0</td>\n",
       "    </tr>\n",
       "    <tr>\n",
       "      <th>1</th>\n",
       "      <td>Italy</td>\n",
       "      <td>1</td>\n",
       "      <td>2.0</td>\n",
       "      <td>0.0</td>\n",
       "      <td>0.0</td>\n",
       "    </tr>\n",
       "    <tr>\n",
       "      <th>2</th>\n",
       "      <td>Italy</td>\n",
       "      <td>2</td>\n",
       "      <td>2.0</td>\n",
       "      <td>0.0</td>\n",
       "      <td>0.0</td>\n",
       "    </tr>\n",
       "    <tr>\n",
       "      <th>3</th>\n",
       "      <td>Italy</td>\n",
       "      <td>3</td>\n",
       "      <td>2.0</td>\n",
       "      <td>0.0</td>\n",
       "      <td>0.0</td>\n",
       "    </tr>\n",
       "    <tr>\n",
       "      <th>4</th>\n",
       "      <td>Italy</td>\n",
       "      <td>4</td>\n",
       "      <td>2.0</td>\n",
       "      <td>0.0</td>\n",
       "      <td>0.0</td>\n",
       "    </tr>\n",
       "  </tbody>\n",
       "</table>\n",
       "</div>"
      ],
      "text/plain": [
       "  Country  dayCount  Confirmed  Recovered  Deaths\n",
       "0   Italy         0        2.0        0.0     0.0\n",
       "1   Italy         1        2.0        0.0     0.0\n",
       "2   Italy         2        2.0        0.0     0.0\n",
       "3   Italy         3        2.0        0.0     0.0\n",
       "4   Italy         4        2.0        0.0     0.0"
      ]
     },
     "execution_count": 9,
     "metadata": {},
     "output_type": "execute_result"
    }
   ],
   "source": [
    "data_model.head()\n"
   ]
  },
  {
   "cell_type": "markdown",
   "metadata": {},
   "source": [
    "## ----------------------------------------------------------------"
   ]
  },
  {
   "cell_type": "markdown",
   "metadata": {},
   "source": [
    "## TRAIN  TEST"
   ]
  },
  {
   "cell_type": "markdown",
   "metadata": {},
   "source": [
    "# RANDON FOREST REGRESSOR"
   ]
  },
  {
   "cell_type": "code",
   "execution_count": 10,
   "metadata": {},
   "outputs": [],
   "source": [
    "X = data_model.iloc[:, 1:2].values\n",
    "y = data_model.iloc[:, 4].values\n",
    "\n",
    "y = y.reshape(-1, 1)\n"
   ]
  },
  {
   "cell_type": "code",
   "execution_count": 11,
   "metadata": {},
   "outputs": [],
   "source": [
    "from sklearn.model_selection import train_test_split,RandomizedSearchCV\n",
    "from sklearn.ensemble import RandomForestRegressor\n",
    "\n",
    "\n",
    "\n",
    "X_train, X_test, y_train, y_test = train_test_split(X, y,\n",
    "                                                                  test_size = 0.3,\n",
    "                                                                  random_state = 0)\n",
    "\n",
    "\n",
    "previsor = RandomForestRegressor()\n",
    "\n",
    "\n",
    "random_grid = {'bootstrap': [True, False],\n",
    "               'max_depth': [10, 20, 30, 40, 50, 60, 70, 80, 90, 100, 110, None],\n",
    "               'max_features': ['auto', 'sqrt'],\n",
    "               'min_samples_leaf': [1, 2, 4],\n",
    "               'min_samples_split': [2, 5, 10],\n",
    "               'n_estimators': [130, 180, 230]}\n",
    "\n",
    "\n",
    "rf_search = RandomizedSearchCV(previsor,\n",
    "                                random_grid,\n",
    "                                scoring='neg_mean_squared_error',\n",
    "                                cv = 3,\n",
    "                                return_train_score=True,\n",
    "                                n_jobs = -1,\n",
    "                                n_iter = 40, \n",
    "                                verbose=1  )\n"
   ]
  },
  {
   "cell_type": "code",
   "execution_count": 12,
   "metadata": {},
   "outputs": [
    {
     "name": "stdout",
     "output_type": "stream",
     "text": [
      "Fitting 3 folds for each of 40 candidates, totalling 120 fits\n"
     ]
    },
    {
     "name": "stderr",
     "output_type": "stream",
     "text": [
      "[Parallel(n_jobs=-1)]: Using backend LokyBackend with 4 concurrent workers.\n",
      "[Parallel(n_jobs=-1)]: Done  42 tasks      | elapsed:    5.3s\n",
      "[Parallel(n_jobs=-1)]: Done 120 out of 120 | elapsed:   13.6s finished\n"
     ]
    },
    {
     "data": {
      "text/plain": [
       "RandomizedSearchCV(cv=3, error_score=nan,\n",
       "                   estimator=RandomForestRegressor(bootstrap=True,\n",
       "                                                   ccp_alpha=0.0,\n",
       "                                                   criterion='mse',\n",
       "                                                   max_depth=None,\n",
       "                                                   max_features='auto',\n",
       "                                                   max_leaf_nodes=None,\n",
       "                                                   max_samples=None,\n",
       "                                                   min_impurity_decrease=0.0,\n",
       "                                                   min_impurity_split=None,\n",
       "                                                   min_samples_leaf=1,\n",
       "                                                   min_samples_split=2,\n",
       "                                                   min_weight_fraction_leaf=0.0,\n",
       "                                                   n_estimators=100,\n",
       "                                                   n_jobs=None, oob_score=Fals...\n",
       "                   iid='deprecated', n_iter=40, n_jobs=-1,\n",
       "                   param_distributions={'bootstrap': [True, False],\n",
       "                                        'max_depth': [10, 20, 30, 40, 50, 60,\n",
       "                                                      70, 80, 90, 100, 110,\n",
       "                                                      None],\n",
       "                                        'max_features': ['auto', 'sqrt'],\n",
       "                                        'min_samples_leaf': [1, 2, 4],\n",
       "                                        'min_samples_split': [2, 5, 10],\n",
       "                                        'n_estimators': [130, 180, 230]},\n",
       "                   pre_dispatch='2*n_jobs', random_state=None, refit=True,\n",
       "                   return_train_score=True, scoring='neg_mean_squared_error',\n",
       "                   verbose=1)"
      ]
     },
     "execution_count": 12,
     "metadata": {},
     "output_type": "execute_result"
    }
   ],
   "source": [
    "rf_search.fit(X_train, y_train)"
   ]
  },
  {
   "cell_type": "code",
   "execution_count": 13,
   "metadata": {},
   "outputs": [
    {
     "data": {
      "text/plain": [
       "{'n_estimators': 180,\n",
       " 'min_samples_split': 2,\n",
       " 'min_samples_leaf': 1,\n",
       " 'max_features': 'sqrt',\n",
       " 'max_depth': 110,\n",
       " 'bootstrap': True}"
      ]
     },
     "execution_count": 13,
     "metadata": {},
     "output_type": "execute_result"
    }
   ],
   "source": [
    "rf_search.best_params_"
   ]
  },
  {
   "cell_type": "code",
   "execution_count": 14,
   "metadata": {},
   "outputs": [],
   "source": [
    "rf_confirmed = rf_search.best_estimator_"
   ]
  },
  {
   "cell_type": "code",
   "execution_count": 15,
   "metadata": {},
   "outputs": [
    {
     "data": {
      "text/plain": [
       "RandomForestRegressor(bootstrap=True, ccp_alpha=0.0, criterion='mse',\n",
       "                      max_depth=110, max_features='sqrt', max_leaf_nodes=None,\n",
       "                      max_samples=None, min_impurity_decrease=0.0,\n",
       "                      min_impurity_split=None, min_samples_leaf=1,\n",
       "                      min_samples_split=2, min_weight_fraction_leaf=0.0,\n",
       "                      n_estimators=180, n_jobs=None, oob_score=False,\n",
       "                      random_state=None, verbose=0, warm_start=False)"
      ]
     },
     "execution_count": 15,
     "metadata": {},
     "output_type": "execute_result"
    }
   ],
   "source": [
    "rf_confirmed"
   ]
  },
  {
   "cell_type": "code",
   "execution_count": 16,
   "metadata": {},
   "outputs": [],
   "source": [
    "future = np.arange(min(X),100, 1)\n",
    "future = future.reshape(-1, 1)\n",
    "\n"
   ]
  },
  {
   "cell_type": "code",
   "execution_count": 17,
   "metadata": {},
   "outputs": [],
   "source": [
    "rf_pred_future = rf_confirmed.predict(future)"
   ]
  },
  {
   "cell_type": "code",
   "execution_count": 18,
   "metadata": {},
   "outputs": [],
   "source": [
    "rf_test_pred = rf_confirmed.predict(X_test)"
   ]
  },
  {
   "cell_type": "code",
   "execution_count": 19,
   "metadata": {},
   "outputs": [
    {
     "data": {
      "text/plain": [
       "array([1449.1       ,  147.44444444,  523.52222222,  166.12222222,\n",
       "          0.        ,    0.        ,   74.42777778,  955.65555556,\n",
       "         23.54444444,    9.14444444,    0.        ,    0.        ,\n",
       "         16.        , 5089.26666667,   59.27222222,  265.71666667])"
      ]
     },
     "execution_count": 19,
     "metadata": {},
     "output_type": "execute_result"
    }
   ],
   "source": [
    "rf_test_pred"
   ]
  },
  {
   "cell_type": "code",
   "execution_count": 20,
   "metadata": {},
   "outputs": [
    {
     "data": {
      "text/plain": [
       "array([0.00000000e+00, 0.00000000e+00, 0.00000000e+00, 0.00000000e+00,\n",
       "       0.00000000e+00, 0.00000000e+00, 0.00000000e+00, 0.00000000e+00,\n",
       "       0.00000000e+00, 0.00000000e+00, 0.00000000e+00, 0.00000000e+00,\n",
       "       0.00000000e+00, 0.00000000e+00, 0.00000000e+00, 0.00000000e+00,\n",
       "       0.00000000e+00, 0.00000000e+00, 0.00000000e+00, 1.11111111e-02,\n",
       "       1.11111111e-01, 8.05555556e-01, 1.86111111e+00, 3.07777778e+00,\n",
       "       6.26111111e+00, 8.53888889e+00, 9.14444444e+00, 1.60000000e+01,\n",
       "       1.68166667e+01, 2.35444444e+01, 5.92722222e+01, 7.44277778e+01,\n",
       "       1.47444444e+02, 1.66122222e+02, 1.90044444e+02, 2.15755556e+02,\n",
       "       2.44250000e+02, 2.65716667e+02, 5.23522222e+02, 6.66350000e+02,\n",
       "       8.09261111e+02, 9.55655556e+02, 1.18361111e+03, 1.44910000e+03,\n",
       "       1.87045556e+03, 2.12391667e+03, 2.44802778e+03, 2.89434444e+03,\n",
       "       3.37848889e+03, 3.87961667e+03, 4.54085556e+03, 5.08926667e+03,\n",
       "       5.08926667e+03, 5.08926667e+03, 5.08926667e+03, 5.08926667e+03,\n",
       "       5.08926667e+03, 5.08926667e+03, 5.08926667e+03, 5.08926667e+03,\n",
       "       5.08926667e+03, 5.08926667e+03, 5.08926667e+03, 5.08926667e+03,\n",
       "       5.08926667e+03, 5.08926667e+03, 5.08926667e+03, 5.08926667e+03,\n",
       "       5.08926667e+03, 5.08926667e+03, 5.08926667e+03, 5.08926667e+03,\n",
       "       5.08926667e+03, 5.08926667e+03, 5.08926667e+03, 5.08926667e+03,\n",
       "       5.08926667e+03, 5.08926667e+03, 5.08926667e+03, 5.08926667e+03,\n",
       "       5.08926667e+03, 5.08926667e+03, 5.08926667e+03, 5.08926667e+03,\n",
       "       5.08926667e+03, 5.08926667e+03, 5.08926667e+03, 5.08926667e+03,\n",
       "       5.08926667e+03, 5.08926667e+03, 5.08926667e+03, 5.08926667e+03,\n",
       "       5.08926667e+03, 5.08926667e+03, 5.08926667e+03, 5.08926667e+03,\n",
       "       5.08926667e+03, 5.08926667e+03, 5.08926667e+03, 5.08926667e+03])"
      ]
     },
     "execution_count": 20,
     "metadata": {},
     "output_type": "execute_result"
    }
   ],
   "source": [
    "rf_pred_future"
   ]
  },
  {
   "cell_type": "code",
   "execution_count": 21,
   "metadata": {},
   "outputs": [],
   "source": [
    "scoreTreino = rf_confirmed.score(X_train, y_train)\n",
    "scoreTeste = rf_confirmed.score(X_test, y_test)\n"
   ]
  },
  {
   "cell_type": "code",
   "execution_count": 22,
   "metadata": {},
   "outputs": [
    {
     "data": {
      "text/plain": [
       "0.9965788990774586"
      ]
     },
     "execution_count": 22,
     "metadata": {},
     "output_type": "execute_result"
    }
   ],
   "source": [
    "scoreTreino"
   ]
  },
  {
   "cell_type": "code",
   "execution_count": 23,
   "metadata": {},
   "outputs": [
    {
     "data": {
      "text/plain": [
       "0.9704988357507641"
      ]
     },
     "execution_count": 23,
     "metadata": {},
     "output_type": "execute_result"
    }
   ],
   "source": [
    "scoreTeste"
   ]
  },
  {
   "cell_type": "code",
   "execution_count": 24,
   "metadata": {},
   "outputs": [
    {
     "name": "stdout",
     "output_type": "stream",
     "text": [
      "MAE: 91.8670138888889\n",
      "MSE: 63457.2108082562\n"
     ]
    },
    {
     "data": {
      "image/png": "[encoded data removed]",
      "text/plain": [
       "<Figure size 432x288 with 1 Axes>"
      ]
     },
     "metadata": {
      "needs_background": "light"
     },
     "output_type": "display_data"
    }
   ],
   "source": [
    "#testando\n",
    "import matplotlib.pyplot as plt\n",
    "from sklearn.metrics import mean_squared_error, mean_absolute_error\n",
    "\n",
    "\n",
    "plt.plot(rf_test_pred, color = 'red')\n",
    "plt.plot(y_test, color = 'blue')\n",
    "\n",
    "print('MAE:', mean_absolute_error(rf_test_pred, y_test))\n",
    "print('MSE:', mean_squared_error(rf_test_pred, y_test))\n",
    "\n"
   ]
  },
  {
   "cell_type": "code",
   "execution_count": 25,
   "metadata": {},
   "outputs": [
    {
     "data": {
      "image/png": "[encoded data removed]",
      "text/plain": [
       "<Figure size 1440x864 with 1 Axes>"
      ]
     },
     "metadata": {
      "needs_background": "light"
     },
     "output_type": "display_data"
    }
   ],
   "source": [
    "plt.figure(figsize = (20,12))\n",
    "\n",
    "plt.plot(X,y, color = 'blue')\n",
    "plt.plot(future, rf_pred_future, linestyle ='dashed', color = 'red')\n",
    "plt.title('number of deaths over time', size = 20)\n",
    "plt.xlabel('days count', size = 20)\n",
    "plt.legend('predict')\n",
    "plt.ylabel('number of deaths', size = 20)\n",
    "plt.legend('y')\n",
    "plt.xticks(size=15)\n",
    "plt.yticks(size=15)\n",
    "plt.show()"
   ]
  },
  {
   "cell_type": "markdown",
   "metadata": {},
   "source": [
    "# --------------------------------------------------------------------------------"
   ]
  },
  {
   "cell_type": "markdown",
   "metadata": {},
   "source": [
    "# SVM REGRESSOR"
   ]
  },
  {
   "cell_type": "code",
   "execution_count": 26,
   "metadata": {},
   "outputs": [
    {
     "data": {
      "text/html": [
       "<div>\n",
       "<style scoped>\n",
       "    .dataframe tbody tr th:only-of-type {\n",
       "        vertical-align: middle;\n",
       "    }\n",
       "\n",
       "    .dataframe tbody tr th {\n",
       "        vertical-align: top;\n",
       "    }\n",
       "\n",
       "    .dataframe thead th {\n",
       "        text-align: right;\n",
       "    }\n",
       "</style>\n",
       "<table border=\"1\" class=\"dataframe\">\n",
       "  <thead>\n",
       "    <tr style=\"text-align: right;\">\n",
       "      <th></th>\n",
       "      <th>Country</th>\n",
       "      <th>dayCount</th>\n",
       "      <th>Confirmed</th>\n",
       "      <th>Recovered</th>\n",
       "      <th>Deaths</th>\n",
       "    </tr>\n",
       "  </thead>\n",
       "  <tbody>\n",
       "    <tr>\n",
       "      <th>0</th>\n",
       "      <td>Italy</td>\n",
       "      <td>0</td>\n",
       "      <td>2.0</td>\n",
       "      <td>0.0</td>\n",
       "      <td>0.0</td>\n",
       "    </tr>\n",
       "    <tr>\n",
       "      <th>1</th>\n",
       "      <td>Italy</td>\n",
       "      <td>1</td>\n",
       "      <td>2.0</td>\n",
       "      <td>0.0</td>\n",
       "      <td>0.0</td>\n",
       "    </tr>\n",
       "    <tr>\n",
       "      <th>2</th>\n",
       "      <td>Italy</td>\n",
       "      <td>2</td>\n",
       "      <td>2.0</td>\n",
       "      <td>0.0</td>\n",
       "      <td>0.0</td>\n",
       "    </tr>\n",
       "    <tr>\n",
       "      <th>3</th>\n",
       "      <td>Italy</td>\n",
       "      <td>3</td>\n",
       "      <td>2.0</td>\n",
       "      <td>0.0</td>\n",
       "      <td>0.0</td>\n",
       "    </tr>\n",
       "    <tr>\n",
       "      <th>4</th>\n",
       "      <td>Italy</td>\n",
       "      <td>4</td>\n",
       "      <td>2.0</td>\n",
       "      <td>0.0</td>\n",
       "      <td>0.0</td>\n",
       "    </tr>\n",
       "  </tbody>\n",
       "</table>\n",
       "</div>"
      ],
      "text/plain": [
       "  Country  dayCount  Confirmed  Recovered  Deaths\n",
       "0   Italy         0        2.0        0.0     0.0\n",
       "1   Italy         1        2.0        0.0     0.0\n",
       "2   Italy         2        2.0        0.0     0.0\n",
       "3   Italy         3        2.0        0.0     0.0\n",
       "4   Italy         4        2.0        0.0     0.0"
      ]
     },
     "execution_count": 26,
     "metadata": {},
     "output_type": "execute_result"
    }
   ],
   "source": [
    "data_model.head()"
   ]
  },
  {
   "cell_type": "code",
   "execution_count": 27,
   "metadata": {},
   "outputs": [],
   "source": [
    "X = data_model.iloc[:, 1].values\n",
    "y = data_model.iloc[:, 4].values"
   ]
  },
  {
   "cell_type": "code",
   "execution_count": 28,
   "metadata": {},
   "outputs": [
    {
     "data": {
      "text/plain": [
       "array([ 0,  1,  2,  3,  4,  5,  6,  7,  8,  9, 10, 11, 12, 13, 14, 15, 16,\n",
       "       17, 18, 19, 20, 21, 22, 23, 24, 25, 26, 27, 28, 29, 30, 31, 32, 33,\n",
       "       34, 35, 36, 37, 38, 39, 40, 41, 42, 43, 44, 45, 46, 47, 48, 49, 50,\n",
       "       51, 52])"
      ]
     },
     "execution_count": 28,
     "metadata": {},
     "output_type": "execute_result"
    }
   ],
   "source": [
    "X"
   ]
  },
  {
   "cell_type": "code",
   "execution_count": 29,
   "metadata": {},
   "outputs": [
    {
     "data": {
      "text/plain": [
       "array([0.000e+00, 0.000e+00, 0.000e+00, 0.000e+00, 0.000e+00, 0.000e+00,\n",
       "       0.000e+00, 0.000e+00, 0.000e+00, 0.000e+00, 0.000e+00, 0.000e+00,\n",
       "       0.000e+00, 0.000e+00, 0.000e+00, 0.000e+00, 0.000e+00, 0.000e+00,\n",
       "       0.000e+00, 0.000e+00, 0.000e+00, 1.000e+00, 2.000e+00, 3.000e+00,\n",
       "       7.000e+00, 1.000e+01, 1.200e+01, 1.700e+01, 2.100e+01, 2.900e+01,\n",
       "       3.400e+01, 5.200e+01, 7.900e+01, 1.070e+02, 1.480e+02, 1.970e+02,\n",
       "       2.330e+02, 3.660e+02, 4.630e+02, 6.310e+02, 8.270e+02, 8.270e+02,\n",
       "       1.266e+03, 1.441e+03, 1.809e+03, 2.158e+03, 2.503e+03, 2.978e+03,\n",
       "       3.405e+03, 4.032e+03, 4.825e+03, 5.476e+03, 6.077e+03])"
      ]
     },
     "execution_count": 29,
     "metadata": {},
     "output_type": "execute_result"
    }
   ],
   "source": [
    "y"
   ]
  },
  {
   "cell_type": "code",
   "execution_count": 30,
   "metadata": {},
   "outputs": [],
   "source": [
    "X = X.reshape(-1, 1)\n",
    "y = y.reshape(-1, 1)"
   ]
  },
  {
   "cell_type": "code",
   "execution_count": 31,
   "metadata": {},
   "outputs": [],
   "source": [
    "from sklearn.model_selection import train_test_split\n",
    "X_train, X_test, y_train, y_test = train_test_split(X, y,\n",
    "                                                    test_size = 0.3,\n",
    "                                                    random_state = 3)"
   ]
  },
  {
   "cell_type": "code",
   "execution_count": 32,
   "metadata": {},
   "outputs": [],
   "source": [
    "#svm model\n",
    "from sklearn.svm import SVR\n",
    "from sklearn.model_selection import RandomizedSearchCV, train_test_split\n",
    "\n",
    "kernel = ['poly', 'sigmoid', 'rbf']\n",
    "c = [0.01, 0.1, 1, 10]\n",
    "gamma = [0.01, 0.1, 1]\n",
    "epsilon = [0.01, 0.1, 1]\n",
    "shrinking = [True, False]\n",
    "\n",
    "svm_grid = {'kernel' : kernel , 'C' : c, 'gamma': gamma, 'epsilon': epsilon, 'shrinking': shrinking}\n",
    "\n",
    "previsor = SVR()\n",
    "\n",
    "svm_search = RandomizedSearchCV(previsor, \n",
    "                                svm_grid,\n",
    "                                scoring='neg_mean_squared_error',\n",
    "                                cv=3, \n",
    "                                return_train_score=True,\n",
    "                                n_jobs = -1, \n",
    "                                n_iter=40, \n",
    "                                verbose=1 )\n",
    "\n"
   ]
  },
  {
   "cell_type": "code",
   "execution_count": 33,
   "metadata": {},
   "outputs": [
    {
     "name": "stdout",
     "output_type": "stream",
     "text": [
      "Fitting 3 folds for each of 40 candidates, totalling 120 fits\n"
     ]
    },
    {
     "name": "stderr",
     "output_type": "stream",
     "text": [
      "[Parallel(n_jobs=-1)]: Using backend LokyBackend with 4 concurrent workers.\n",
      "[Parallel(n_jobs=-1)]: Done 120 out of 120 | elapsed:    1.1s finished\n"
     ]
    },
    {
     "data": {
      "text/plain": [
       "RandomizedSearchCV(cv=3, error_score=nan,\n",
       "                   estimator=SVR(C=1.0, cache_size=200, coef0=0.0, degree=3,\n",
       "                                 epsilon=0.1, gamma='scale', kernel='rbf',\n",
       "                                 max_iter=-1, shrinking=True, tol=0.001,\n",
       "                                 verbose=False),\n",
       "                   iid='deprecated', n_iter=40, n_jobs=-1,\n",
       "                   param_distributions={'C': [0.01, 0.1, 1, 10],\n",
       "                                        'epsilon': [0.01, 0.1, 1],\n",
       "                                        'gamma': [0.01, 0.1, 1],\n",
       "                                        'kernel': ['poly', 'sigmoid', 'rbf'],\n",
       "                                        'shrinking': [True, False]},\n",
       "                   pre_dispatch='2*n_jobs', random_state=None, refit=True,\n",
       "                   return_train_score=True, scoring='neg_mean_squared_error',\n",
       "                   verbose=1)"
      ]
     },
     "execution_count": 33,
     "metadata": {},
     "output_type": "execute_result"
    }
   ],
   "source": [
    "svm_search.fit(X_train, y_train)"
   ]
  },
  {
   "cell_type": "code",
   "execution_count": 34,
   "metadata": {},
   "outputs": [
    {
     "data": {
      "text/plain": [
       "{'shrinking': False, 'kernel': 'poly', 'gamma': 1, 'epsilon': 0.01, 'C': 0.1}"
      ]
     },
     "execution_count": 34,
     "metadata": {},
     "output_type": "execute_result"
    }
   ],
   "source": [
    "svm_search.best_params_"
   ]
  },
  {
   "cell_type": "code",
   "execution_count": 35,
   "metadata": {},
   "outputs": [],
   "source": [
    "svm_confirmed = svm_search.best_estimator_"
   ]
  },
  {
   "cell_type": "code",
   "execution_count": 36,
   "metadata": {},
   "outputs": [],
   "source": [
    "future = np.arange(min(X),100, 1)\n",
    "future = future.reshape(-1, 1)\n",
    "\n"
   ]
  },
  {
   "cell_type": "code",
   "execution_count": 37,
   "metadata": {},
   "outputs": [
    {
     "data": {
      "text/plain": [
       "SVR(C=0.1, cache_size=200, coef0=0.0, degree=3, epsilon=0.01, gamma=1,\n",
       "    kernel='poly', max_iter=-1, shrinking=False, tol=0.001, verbose=False)"
      ]
     },
     "execution_count": 37,
     "metadata": {},
     "output_type": "execute_result"
    }
   ],
   "source": [
    "svm_confirmed"
   ]
  },
  {
   "cell_type": "code",
   "execution_count": 38,
   "metadata": {},
   "outputs": [],
   "source": [
    "svm_pred_future = svm_confirmed.predict(future)"
   ]
  },
  {
   "cell_type": "code",
   "execution_count": 39,
   "metadata": {},
   "outputs": [],
   "source": [
    "svm_test_pred = svm_confirmed.predict(X_test)"
   ]
  },
  {
   "cell_type": "code",
   "execution_count": 40,
   "metadata": {},
   "outputs": [
    {
     "data": {
      "text/plain": [
       "array([ -60.89090792, 1540.99720777,  -80.06611675, 2305.24156619,\n",
       "        283.74460193,  424.1900503 ,  -51.8887328 , 2452.0979451 ,\n",
       "       2028.68860448,  -89.91284559, 1134.38296963,  139.47946728,\n",
       "        660.35798753,   17.88292286,  -92.83039488,  205.85371367])"
      ]
     },
     "execution_count": 40,
     "metadata": {},
     "output_type": "execute_result"
    }
   ],
   "source": [
    "svm_test_pred"
   ]
  },
  {
   "cell_type": "code",
   "execution_count": 41,
   "metadata": {},
   "outputs": [
    {
     "data": {
      "text/plain": [
       "array([-9.40588367e+01, -9.40396423e+01, -9.39052815e+01, -9.35405878e+01,\n",
       "       -9.28303949e+01, -9.16595363e+01, -8.99128456e+01, -8.74751564e+01,\n",
       "       -8.42313022e+01, -8.00661167e+01, -7.48644335e+01, -6.85110860e+01,\n",
       "       -6.08909079e+01, -5.18887328e+01, -4.13893942e+01, -2.92777258e+01,\n",
       "       -1.54385611e+01,  2.43266338e-01,  1.78829229e+01,  3.75955750e+01,\n",
       "        5.94963891e+01,  8.37005316e+01,  1.10323169e+02,  1.39479467e+02,\n",
       "        1.71284593e+02,  2.05853714e+02,  2.43301994e+02,  2.83744602e+02,\n",
       "        3.27296703e+02,  3.74073463e+02,  4.24190050e+02,  4.77761630e+02,\n",
       "        5.34903368e+02,  5.95730432e+02,  6.60357988e+02,  7.28901202e+02,\n",
       "        8.01475240e+02,  8.78195270e+02,  9.59176457e+02,  1.04453397e+03,\n",
       "        1.13438297e+03,  1.22883863e+03,  1.32801611e+03,  1.43203058e+03,\n",
       "        1.54099721e+03,  1.65503116e+03,  1.77424760e+03,  1.89876169e+03,\n",
       "        2.02868860e+03,  2.16414351e+03,  2.30524157e+03,  2.45209795e+03,\n",
       "        2.60482781e+03,  2.76354633e+03,  2.92836867e+03,  3.09941000e+03,\n",
       "        3.27678548e+03,  3.46061028e+03,  3.65099956e+03,  3.84806850e+03,\n",
       "        4.05193226e+03,  4.26270600e+03,  4.48050489e+03,  4.70544411e+03,\n",
       "        4.93763880e+03,  5.17720415e+03,  5.42425531e+03,  5.67890746e+03,\n",
       "        5.94127576e+03,  6.21147537e+03,  6.48962147e+03,  6.77582922e+03,\n",
       "        7.07021377e+03,  7.37289032e+03,  7.68397401e+03,  8.00358002e+03,\n",
       "        8.33182351e+03,  8.66881965e+03,  9.01468360e+03,  9.36953053e+03,\n",
       "        9.73347561e+03,  1.01066340e+04,  1.04891209e+04,  1.08810514e+04,\n",
       "        1.12825407e+04,  1.16937040e+04,  1.21146565e+04,  1.25455133e+04,\n",
       "        1.29863895e+04,  1.34374004e+04,  1.38986611e+04,  1.43702868e+04,\n",
       "        1.48523926e+04,  1.53450938e+04,  1.58485054e+04,  1.63627426e+04,\n",
       "        1.68879207e+04,  1.74241547e+04,  1.79715599e+04,  1.85302514e+04])"
      ]
     },
     "execution_count": 41,
     "metadata": {},
     "output_type": "execute_result"
    }
   ],
   "source": [
    "svm_pred_future"
   ]
  },
  {
   "cell_type": "code",
   "execution_count": 42,
   "metadata": {},
   "outputs": [],
   "source": [
    "scoreTreino = svm_confirmed.score(X_train, y_train)\n",
    "scoreTeste = svm_confirmed.score(X_test, y_test)\n"
   ]
  },
  {
   "cell_type": "code",
   "execution_count": 43,
   "metadata": {},
   "outputs": [
    {
     "data": {
      "text/plain": [
       "0.6846546652890788"
      ]
     },
     "execution_count": 43,
     "metadata": {},
     "output_type": "execute_result"
    }
   ],
   "source": [
    "scoreTreino"
   ]
  },
  {
   "cell_type": "code",
   "execution_count": 44,
   "metadata": {},
   "outputs": [
    {
     "data": {
      "text/plain": [
       "0.6494862262811463"
      ]
     },
     "execution_count": 44,
     "metadata": {},
     "output_type": "execute_result"
    }
   ],
   "source": [
    "scoreTeste"
   ]
  },
  {
   "cell_type": "code",
   "execution_count": 45,
   "metadata": {},
   "outputs": [
    {
     "name": "stdout",
     "output_type": "stream",
     "text": [
      "MAE: 586.9034617249802\n",
      "MSE: 1132902.3975785167\n"
     ]
    },
    {
     "data": {
      "image/png": "[encoded data removed]",
      "text/plain": [
       "<Figure size 432x288 with 1 Axes>"
      ]
     },
     "metadata": {
      "needs_background": "light"
     },
     "output_type": "display_data"
    }
   ],
   "source": [
    "#  Y X PREVISOES\n",
    "import matplotlib.pyplot as plt\n",
    "from sklearn.metrics import mean_squared_error, mean_absolute_error\n",
    "\n",
    "\n",
    "plt.plot(svm_test_pred, color = 'red')\n",
    "plt.plot(y_test, color = 'blue')\n",
    "\n",
    "print('MAE:', mean_absolute_error(svm_test_pred, y_test))\n",
    "print('MSE:', mean_squared_error(svm_test_pred, y_test))\n",
    "\n"
   ]
  },
  {
   "cell_type": "code",
   "execution_count": 53,
   "metadata": {},
   "outputs": [
    {
     "data": {
      "image/png": "[encoded data removed]",
      "text/plain": [
       "<Figure size 1440x864 with 1 Axes>"
      ]
     },
     "metadata": {
      "needs_background": "light"
     },
     "output_type": "display_data"
    }
   ],
   "source": [
    "plt.figure(figsize = (20,12))\n",
    "\n",
    "plt.plot(X,y, color = 'blue')\n",
    "plt.plot(future, svm_pred_future, linestyle ='dashed', color = 'red')\n",
    "plt.title('number of deaths over time', size = 20)\n",
    "plt.xlabel('days count', size = 20)\n",
    "plt.ylabel('number of deaths', size = 20)\n",
    "plt.xticks(size=15)\n",
    "plt.yticks(size=15)\n",
    "plt.show()"
   ]
  },
  {
   "cell_type": "code",
   "execution_count": null,
   "metadata": {},
   "outputs": [],
   "source": []
  }
 ],
 "metadata": {
  "kernelspec": {
   "display_name": "Python 3",
   "language": "python",
   "name": "python3"
  },
  "language_info": {
   "codemirror_mode": {
    "name": "ipython",
    "version": 3
   },
   "file_extension": ".py",
   "mimetype": "text/x-python",
   "name": "python",
   "nbconvert_exporter": "python",
   "pygments_lexer": "ipython3",
   "version": "3.7.4"
  }
 },
 "nbformat": 4,
 "nbformat_minor": 4
}
